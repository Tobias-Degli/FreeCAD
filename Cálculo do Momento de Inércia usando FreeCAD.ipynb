{
 "cells": [
  {
   "cell_type": "markdown",
   "id": "b563c3c8",
   "metadata": {},
   "source": [
    "# Como Calcular o Momento de Inércia de qualquer sólido Usando o FreeCAD\n",
    "\n",
    "Este tutorial ensina como calcular o **momento de inércia** de um corpo 3D no FreeCAD, utilizando tanto a interface gráfica quanto scripts em Python.\n",
    "\n",
    "---\n",
    "\n",
    "## 🎯 Objetivo\n",
    "\n",
    "Demonstrar como:\n",
    "\n",
    "- Obter a matriz de momento de inércia.\n",
    "- Interpretar os resultados.\n",
    "- Automatizar o processo com Python.\n",
    "- Instalar e utilizar a macro FCInfo\n",
    "\n",
    "---\n",
    "\n",
    "## 🧰 Requisitos\n",
    "\n",
    "- FreeCAD instalado (recomendado: versão 0.20 ou superior).\n",
    "- Conhecimentos básicos de modelagem 3D e Python (opcional).\n",
    "\n",
    "---\n",
    "\n",
    "## 🧱 1. Criando o Modelo 3D\n",
    "\n",
    "1. Abra o FreeCAD.\n",
    "2. Abra o link https://wiki.freecad.org/Macro_FCInfo e copie o código da macro.\n",
    "2. Selecione o ambiente **Macro**.\n",
    "3. Adicione e depois execute a macro.\n",
    "4. Crie um sólido simples, como um cilindro.\n",
    "5. Utilize a Macro FCInfo para obter a Matriz de inércia.\n",
    "6. Revise as unidades de medida"
   ]
  },
  {
   "cell_type": "markdown",
   "id": "3cf08232",
   "metadata": {},
   "source": [
    "### Visualizando a matriz de inércia da engreagem"
   ]
  },
  {
   "cell_type": "code",
   "execution_count": 105,
   "id": "74edb114",
   "metadata": {},
   "outputs": [
    {
     "data": {
      "text/latex": [
       "$\\displaystyle \\left[\\begin{matrix}1.10987462 \\cdot 10^{-7} & -1.76881398 \\cdot 10^{-23} & 2.79598277 \\cdot 10^{-25} & 0\\\\-1.76881398 \\cdot 10^{-23} & 1.10987462 \\cdot 10^{-7} & 2.61774301 \\cdot 10^{-24} & 0\\\\2.79598277 \\cdot 10^{-25} & 2.61774301 \\cdot 10^{-24} & 1.9405846 \\cdot 10^{-7} & 0\\\\0 & 0 & 0 & 7.87 \\cdot 10^{-12}\\end{matrix}\\right]$"
      ],
      "text/plain": [
       "⎡ 1.10987462e-7   -1.76881398e-23  2.79598277e-25     0    ⎤\n",
       "⎢                                                          ⎥\n",
       "⎢-1.76881398e-23   1.10987462e-7   2.61774301e-24     0    ⎥\n",
       "⎢                                                          ⎥\n",
       "⎢2.79598277e-25   2.61774301e-24    1.9405846e-7      0    ⎥\n",
       "⎢                                                          ⎥\n",
       "⎣       0                0               0         7.87e-12⎦"
      ]
     },
     "execution_count": 105,
     "metadata": {},
     "output_type": "execute_result"
    }
   ],
   "source": [
    "from sympy import Matrix\n",
    "from sympy.interactive import printing\n",
    "\n",
    "# Ativa a impressão em LaTeX (funciona automaticamente no Jupyter)\n",
    "printing.init_printing()\n",
    "ρ_steel = 7870  # kg.m²\n",
    "# Tensor de Inércia\n",
    "M=((14102.6,-2.24754e-12,3.55271e-14,0),(-2.24754e-12,14102.6,3.32623e-13,0),(3.55271e-14,3.32623e-13,24658,0),(0,0,0,1))\n",
    "I=ρ_steel*10**(-15)*Matrix([[M[0][0],M[0][1],M[0][2],M[0][3]],\n",
    "          [M[1][0],M[1][1],M[1][2],M[1][3]],\n",
    "          [M[2][0],M[2][1],M[2][2],M[2][3]],\n",
    "          [M[3][0],M[3][1],M[3][2],M[3][3]]])\n",
    "I"
   ]
  },
  {
   "cell_type": "markdown",
   "id": "8ae55589",
   "metadata": {},
   "source": [
    "### Momentos principais de inércia $I_{xx}$ , $I_{yy}$  e $I_{zz}$  respectivamente:"
   ]
  },
  {
   "cell_type": "code",
   "execution_count": 106,
   "id": "9d7eecbc",
   "metadata": {},
   "outputs": [
    {
     "data": {
      "image/png": "[encoded data removed]",
      "text/latex": [
       "$\\displaystyle \\left( 1.10987462 \\cdot 10^{-7}, \\  1.10987462 \\cdot 10^{-7}, \\  1.9405846 \\cdot 10^{-7}\\right)$"
      ],
      "text/plain": [
       "(1.10987462e-7, 1.10987462e-7, 1.9405846e-7)"
      ]
     },
     "execution_count": 106,
     "metadata": {},
     "output_type": "execute_result"
    }
   ],
   "source": [
    "I_axis = (I[0],I[5],I[10])\n",
    "I_axis"
   ]
  },
  {
   "cell_type": "markdown",
   "id": "39831c8c",
   "metadata": {},
   "source": [
    "# Como Calcular de forma automática o Momento de Inércia de qualquer Sólidos cenhecidos usando o FreeCAD"
   ]
  },
  {
   "cell_type": "markdown",
   "id": "b0987fd7",
   "metadata": {},
   "source": [
    "### 🧊 Código em Python para obter o Momento de Inércia de um Cubo\n",
    "\n",
    "```python\n",
    "\n",
    "# Densidade do aço\n",
    "ρ_steel = 7870  # kg.m²\n",
    "\n",
    "# Acesse o objeto chamado \"Cube\"\n",
    "obj = App.ActiveDocument.getObject(\"Cube\")\n",
    "shape = obj.Shape\n",
    "\n",
    "# Matriz tensor de inércia\n",
    "M = shape.MatrixOfInertia\n",
    "\n",
    "# Matriz de Inércia\n",
    "I = M*ρ_steel*10**(-15)\n",
    "\n",
    "print(\"Matriz de Inercia em [kg.m²]\",I)\n",
    "print(\"Ixx =\",I.A11);print(\"Iyy =\",I.A22);print(\"Izz =\",I.A33)\n",
    "\n"
   ]
  },
  {
   "cell_type": "markdown",
   "id": "40a6627f",
   "metadata": {},
   "source": [
    "### 🛢️ Código em Python para obter o Momento de Inércia de um Cilíndro\n",
    "```python\n",
    "\n",
    "# Densidade do aço\n",
    "ρ_steel = 7870  # kg.m²\n",
    "\n",
    "# Acesse o objeto chamado \"Cylinder\"\n",
    "obj = App.ActiveDocument.getObject(\"Cylinder\")\n",
    "shape = obj.Shape\n",
    "\n",
    "# Matriz tensor de inércia\n",
    "M = shape.MatrixOfInertia\n",
    "\n",
    "# Matriz de Inércia\n",
    "I = M*ρ_steel*10**(-15)\n",
    "\n",
    "print(\"Matriz de Inercia em [kg.m²]\",I)\n",
    "print(\"Ixx =\",I.A11);print(\"Iyy =\",I.A22);print(\"Izz =\",I.A33)\n"
   ]
  },
  {
   "cell_type": "markdown",
   "id": "51f1c648",
   "metadata": {},
   "source": [
    "### 🍩 Código em Python para obter o Momento de Inércia de um Toróide\n",
    "```python\n",
    "\n",
    "# Densidade do aço\n",
    "ρ_steel = 7870  # kg.m²\n",
    "\n",
    "# Acesse o objeto chamado \"Torus\"\n",
    "obj = App.ActiveDocument.getObject(\"Torus\")\n",
    "shape = obj.Shape\n",
    "\n",
    "# Matriz tensor de inércia\n",
    "M = shape.MatrixOfInertia\n",
    "\n",
    "# Matriz de Inércia\n",
    "I = M*ρ_steel*10**(-15)\n",
    "\n",
    "print(\"Matriz de Inercia em [kg.m²]\",I)\n",
    "print(\"Ixx =\",I.A11);print(\"Iyy =\",I.A22);print(\"Izz =\",I.A33)\n",
    "\n"
   ]
  },
  {
   "attachments": {},
   "cell_type": "markdown",
   "id": "40100828",
   "metadata": {},
   "source": [
    "### 🎉 Código em Python para obter o Momento de Inércia de um Cone\n",
    "\n",
    "```python\n",
    "\n",
    "# Desnsidade do aço\n",
    "ρ_steel = 7870  # kg.m²\n",
    "\n",
    "# Acesse o objeto chamado \"Cone\"\n",
    "obj = App.ActiveDocument.getObject(\"Cone\")\n",
    "shape = obj.Shape\n",
    "\n",
    "# Matriz tensor de inércia\n",
    "M = shape.MatrixOfInertia\n",
    "\n",
    "# Matriz de Inércia\n",
    "I = M*ρ_steel*10**(-15)\n",
    "\n",
    "print(\"Matriz de Inercia em [kg.m²]\",I)\n",
    "print(\"Ixx =\",I.A11);print(\"Iyy =\",I.A22);print(\"Izz =\",I.A33)\n"
   ]
  },
  {
   "cell_type": "markdown",
   "id": "cbd3a8ba",
   "metadata": {},
   "source": [
    "\n",
    "### 🏀 Código em Python para obter o Momento de Inércia de uma Esfera\n",
    "\n",
    "```python\n",
    "\n",
    "# Desnsidade do aço\n",
    "ρ_steel = 7870  # kg.m²\n",
    "\n",
    "# Acesse o objeto chamado \"Sphere\"\n",
    "obj = App.ActiveDocument.getObject(\"Sphere\")\n",
    "shape = obj.Shape\n",
    "\n",
    "# Matriz tensor de inércia\n",
    "M = shape.MatrixOfInertia\n",
    "\n",
    "# Matriz de Inércia\n",
    "I = M*ρ_steel*10**(-15)\n",
    "\n",
    "print(\"Matriz de Inercia em [kg.m²]\",I)\n",
    "print(\"Ixx =\",I.A11);print(\"Iyy =\",I.A22);print(\"Izz =\",I.A33)\n",
    "\n"
   ]
  },
  {
   "cell_type": "markdown",
   "id": "9d57549c",
   "metadata": {},
   "source": [
    "## 🧮 Referências\n",
    " 1 - https://wiki.freecad.org/Macro_FCInfo"
   ]
  }
 ],
 "metadata": {
  "kernelspec": {
   "display_name": "Python 3",
   "language": "python",
   "name": "python3"
  },
  "language_info": {
   "codemirror_mode": {
    "name": "ipython",
    "version": 3
   },
   "file_extension": ".py",
   "mimetype": "text/x-python",
   "name": "python",
   "nbconvert_exporter": "python",
   "pygments_lexer": "ipython3",
   "version": "3.8.8"
  }
 },
 "nbformat": 4,
 "nbformat_minor": 5
}
