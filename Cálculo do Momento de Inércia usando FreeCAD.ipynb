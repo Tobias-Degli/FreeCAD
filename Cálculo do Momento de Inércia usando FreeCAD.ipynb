{
 "cells": [
  {
   "cell_type": "markdown",
   "id": "b563c3c8",
   "metadata": {},
   "source": [
    "# Como Calcular o Momento de Inércia de qualquer sólido Usando o FreeCAD\n",
    "\n",
    "Este tutorial ensina como calcular o **momento de inércia** de um corpo 3D no FreeCAD, utilizando tanto a interface gráfica quanto scripts em Python.\n",
    "\n",
    "---\n",
    "\n",
    "## 🎯 Objetivo\n",
    "\n",
    "Demonstrar como:\n",
    "\n",
    "- Obter a matriz de momento de inércia.\n",
    "- Interpretar os resultados.\n",
    "- Automatizar o processo com Python.\n",
    "- Instalar e utilizar a macro FCInfo\n",
    "\n",
    "---\n",
    "\n",
    "## 🧰 Requisitos\n",
    "\n",
    "- FreeCAD instalado (recomendado: versão 0.20 ou superior).\n",
    "- Conhecimentos básicos de modelagem 3D e Python (opcional).\n",
    "\n",
    "---\n",
    "\n",
    "## 🧱 1. Criando o Modelo 3D\n",
    "\n",
    "1. Abra o FreeCAD.\n",
    "2. Abra o link https://wiki.freecad.org/Macro_FCInfo e copie o código da macro.\n",
    "2. Selecione o ambiente **Macro**.\n",
    "3. Adicione e depois execute a macro.\n",
    "4. Crie um sólido simples, como um cilindro.\n",
    "5. Utilize a Macro FCInfo para obter a Matriz de inércia.\n",
    "6. Revise as unidades de medida\n",
    "\n",
    "### Código em Python (opcional)\n",
    "```python\n",
    "import FreeCAD, Part\n",
    "\n",
    "# Criando novo documento e cilindro\n",
    "doc = FreeCAD.newDocument()\n",
    "shape = Part.makeCylinder(10, 50)  # Raio 10 mm, altura 50 mm\n",
    "obj = doc.addObject(\"Part::Feature\", \"Cylinder\")\n",
    "obj.Shape = shape\n",
    "mass_props = shape.MatrixOfInertia\n",
    "print(\"Matriz de inércia:\", mass_props)\n",
    "doc.recompute()\n",
    "\n"
   ]
  },
  {
   "cell_type": "markdown",
   "id": "9d57549c",
   "metadata": {},
   "source": [
    "## 🧮 Referências\n",
    " 1 - https://wiki.freecad.org/Macro_FCInfo"
   ]
  }
 ],
 "metadata": {
  "kernelspec": {
   "display_name": "Python 3",
   "language": "python",
   "name": "python3"
  },
  "language_info": {
   "codemirror_mode": {
    "name": "ipython",
    "version": 3
   },
   "file_extension": ".py",
   "mimetype": "text/x-python",
   "name": "python",
   "nbconvert_exporter": "python",
   "pygments_lexer": "ipython3",
   "version": "3.8.8"
  }
 },
 "nbformat": 4,
 "nbformat_minor": 5
}
