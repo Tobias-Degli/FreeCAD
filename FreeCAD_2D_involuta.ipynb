{
 "cells": [
  {
   "cell_type": "markdown",
   "metadata": {},
   "source": [
    "## Código para criar o esboço de uma curva involuta no freecad - Português"
   ]
  },
  {
   "cell_type": "code",
   "execution_count": null,
   "metadata": {},
   "outputs": [],
   "source": [
    "import FreeCAD; import math as mt\n",
    "\n",
    "# Parâmetros da involuta\n",
    "db = 50  # Diâmetro da circunferência de base\n",
    "npts = 100  # Número de pontos para construir a curva\n",
    "ai = 0.1  # Incremento de ângulo em radianos\n",
    "\n",
    "def create_involute_sketch():\n",
    "    # Calcula o raio da base\n",
    "    rb = db / 2\n",
    "\n",
    "    # Cria um novo documento e esboço (Sketch)\n",
    "    doc = FreeCAD.newDocument()\n",
    "    sketch = doc.addObject('Sketcher::SketchObject', 'InvoluteSketch')\n",
    "\n",
    "    # Calcula os pontos da curva involuta e adiciona ao esboço como segmentos de linha\n",
    "    for i in range(npts - 1):\n",
    "        θ1 = i * ai\n",
    "        θ2 = (i + 1) * ai\n",
    "        x1 = rb * (mt.cos(θ1) + θ1 * mt.sin(θ1))\n",
    "        y1 = rb * (mt.sin(θ1) - θ1 * mt.cos(θ1))\n",
    "        x2 = rb * (mt.cos(θ2) + θ2 * mt.sin(θ2))\n",
    "        y2 = rb * (mt.sin(θ2) - θ2 * mt.cos(θ2))\n",
    "\n",
    "        # Adiciona o segmento de linha ao esboço\n",
    "        sketch.addGeometry(Part.LineSegment(FreeCAD.Vector(x1, y1, 0), FreeCAD.Vector(x2, y2, 0)), False)\n",
    "\n",
    "    # Recalcula o documento e ajusta a visualização\n",
    "    doc.recompute()\n",
    "    FreeCAD.Gui.activeDocument().activeView().viewAxonometric()\n",
    "    FreeCAD.Gui.activeDocument().activeView().fitAll()\n",
    "\n",
    "# Chama a função para criar a curva involuta no esboço\n",
    "create_involute_sketch()\n"
   ]
  },
  {
   "cell_type": "markdown",
   "metadata": {},
   "source": [
    "## Plot da involuta"
   ]
  },
  {
   "cell_type": "code",
   "execution_count": 4,
   "metadata": {},
   "outputs": [
    {
     "data": {
      "text/plain": [
       "[<matplotlib.lines.Line2D at 0x24019469370>]"
      ]
     },
     "execution_count": 4,
     "metadata": {},
     "output_type": "execute_result"
    },
    {
     "data": {
      "image/png": "[encoded data removed]",
      "text/plain": [
       "<Figure size 432x288 with 1 Axes>"
      ]
     },
     "metadata": {
      "needs_background": "light"
     },
     "output_type": "display_data"
    }
   ],
   "source": [
    "import math as math\n",
    "rb=50;npt=100;ai=0.1\n",
    "def create_involute(rb,npt,ai):\n",
    "    x=[];    y=[];    z=[]\n",
    "    for i in range(npt):\n",
    "        angle = i * ai\n",
    "        x.append(rb * (math.cos(angle) + angle * math.sin(angle)))\n",
    "        y.append(rb * (math.sin(angle) - angle * math.cos(angle)))\n",
    "        z.append(0)\n",
    "    return x,y\n",
    "\n",
    "x=create_involute(rb,npt,ai)[0]\n",
    "y=create_involute(rb,npt,ai)[1]\n",
    "\n",
    "import matplotlib.pyplot as plt\n",
    "plt.plot(x,y)"
   ]
  },
  {
   "cell_type": "code",
   "execution_count": null,
   "metadata": {},
   "outputs": [],
   "source": []
  }
 ],
 "metadata": {
  "kernelspec": {
   "display_name": "Python 3",
   "language": "python",
   "name": "python3"
  },
  "language_info": {
   "codemirror_mode": {
    "name": "ipython",
    "version": 3
   },
   "file_extension": ".py",
   "mimetype": "text/x-python",
   "name": "python",
   "nbconvert_exporter": "python",
   "pygments_lexer": "ipython3",
   "version": "3.8.8"
  }
 },
 "nbformat": 4,
 "nbformat_minor": 2
}
